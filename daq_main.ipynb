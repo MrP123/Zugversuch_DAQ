{
 "cells": [
  {
   "cell_type": "code",
   "execution_count": 1,
   "metadata": {},
   "outputs": [],
   "source": [
    "import LDAQ #custom version of LDAQ --> should be installed properly via pip\n",
    "import numpy as np\n",
    "import matplotlib.pyplot as plt"
   ]
  },
  {
   "cell_type": "code",
   "execution_count": 2,
   "metadata": {},
   "outputs": [
    {
     "data": {
      "text/plain": [
       "Task name: input_task\n",
       "Connected devices:\n",
       "\t(0) - cDAQ1\n",
       "\t(1) - cDAQ1Mod1\n",
       "Channels: []"
      ]
     },
     "execution_count": 2,
     "metadata": {},
     "output_type": "execute_result"
    }
   ],
   "source": [
    "ni_task = LDAQ.national_instruments.NITask(\"input_task\", sample_rate=2000)\n",
    "ni_task"
   ]
  },
  {
   "cell_type": "code",
   "execution_count": 3,
   "metadata": {},
   "outputs": [],
   "source": [
    "device_name = \"cDAQ1Mod1\"\n",
    "device_id = ni_task.device_list.index(device_name)"
   ]
  },
  {
   "cell_type": "code",
   "execution_count": 4,
   "metadata": {},
   "outputs": [
    {
     "name": "stdout",
     "output_type": "stream",
     "text": [
      "cDAQ1 (Type: cDAQ-9171, Category: ProductCategory.COMPACT_DAQ_CHASSIS)\n",
      "cDAQ1Mod1 (Type: NI 9237, Category: ProductCategory.C_SERIES_MODULE)\n",
      "\tPhysicalChannel(name=cDAQ1Mod1/ai0)\n",
      "\tPhysicalChannel(name=cDAQ1Mod1/ai1)\n",
      "\tPhysicalChannel(name=cDAQ1Mod1/ai2)\n",
      "\tPhysicalChannel(name=cDAQ1Mod1/ai3)\n",
      "\tBridge Ranges:\n",
      "\t\t-0.025\n",
      "\t\t0.025\n"
     ]
    }
   ],
   "source": [
    "import nidaqmx\n",
    "system = nidaqmx.system.System.local()\n",
    "\n",
    "for device in system.devices:\n",
    "    print(f\"{device.name} (Type: {device.product_type}, Category: {device.product_category})\")\n",
    "    [print(\"\\t\", ai_ch, sep=\"\") for ai_ch in device.ai_physical_chans]\n",
    "    [print(\"\\t\", ao_ch, sep=\"\") for ao_ch in device.ao_physical_chans]\n",
    "    [print(\"\\t\", ci_ch, sep=\"\") for ci_ch in device.ci_physical_chans]\n",
    "    [print(\"\\t\", co_ch, sep=\"\") for co_ch in device.co_physical_chans]\n",
    "    [print(\"\\t\", di_line, sep=\"\") for di_line in device.di_lines]\n",
    "    [print(\"\\t\", do_line, sep=\"\") for do_line in device.do_lines]\n",
    "    [print(\"\\t\", di_port, sep=\"\") for di_port in device.di_ports]\n",
    "    [print(\"\\t\", do_port, sep=\"\") for do_port in device.do_ports]\n",
    "\n",
    "    print(\"\\tBridge Ranges:\") if device.ai_bridge_rngs else None\n",
    "    [print(\"\\t\\t\", bridge_rng, sep=\"\") for bridge_rng in device.ai_bridge_rngs]\n",
    "    print(\"\\tCharge Ranges:\") if device.ai_charge_rngs else None\n",
    "    [print(\"\\t\\t\", charge_rng, sep=\"\") for charge_rng in device.ai_charge_rngs]\n",
    "    print(\"\\tCurrent Ranges:\") if device.ai_current_rngs else None\n",
    "    [print(\"\\t\\t\", current_rng, sep=\"\") for current_rng in device.ai_current_rngs]\n",
    "    print(\"\\tFreq Ranges:\") if device.ai_freq_rngs else None\n",
    "    [print(\"\\t\\t\", freq_rng, sep=\"\") for freq_rng in device.ai_freq_rngs]\n",
    "    print(\"\\tResistance Ranges:\") if device.ai_resistance_rngs else None\n",
    "    [print(\"\\t\\t\", resistance_rng, sep=\"\") for resistance_rng in device.ai_resistance_rngs]\n",
    "    print(\"\\tVoltage Ranges:\") if device.ai_voltage_rngs else None\n",
    "    [print(\"\\t\\t\", voltage_rng, sep=\"\") for voltage_rng in device.ai_voltage_rngs]"
   ]
  },
  {
   "cell_type": "code",
   "execution_count": 5,
   "metadata": {},
   "outputs": [
    {
     "data": {
      "text/plain": [
       "Task name: input_task\n",
       "Connected devices:\n",
       "\t(0) - cDAQ1\n",
       "\t(1) - cDAQ1Mod1\n",
       "Channels: ['Force', 'Strain']"
      ]
     },
     "execution_count": 5,
     "metadata": {},
     "output_type": "execute_result"
    }
   ],
   "source": [
    "from nidaqmx import constants\n",
    "\n",
    "ni_task.add_channel(\n",
    "    \"Force\", device_ind=device_id, channel_ind=0,\n",
    "    sensitivity=1e3, sensitivity_units=\"mV/V\", units=\"mV/V\", min_val=-2, max_val=2,\n",
    "    bridge_config=constants.BridgeConfiguration.FULL_BRIDGE, voltage_excit_source=constants.ExcitationSource.INTERNAL,\n",
    "    voltage_excit_val=5.0, nominal_bridge_resistance=354.8\n",
    ")\n",
    "ni_task.add_channel(\n",
    "    \"Strain\", device_ind=device_id, channel_ind=1,\n",
    "    sensitivity=1e3, sensitivity_units='mm/mm', units='mm/mm', min_val=-0.01, max_val=0.01,\n",
    "    strain_config=constants.StrainGageBridgeType.QUARTER_BRIDGE_I, voltage_excit_source=constants.ExcitationSource.INTERNAL,\n",
    "    voltage_excit_val=2.5, nominal_bridge_resistance=120, gage_factor=2.0\n",
    ")\n",
    "\n",
    "ni_task"
   ]
  },
  {
   "cell_type": "code",
   "execution_count": 6,
   "metadata": {},
   "outputs": [
    {
     "data": {
      "text/plain": [
       "Acquisition name:     NI\n",
       "Number of channels:   0\n",
       "Data channels:        []\n",
       "Video channels:       []\n",
       "Sample rate:          2000 Hz\n",
       "Continuous mode:      False\n",
       "Standalone:           True"
      ]
     },
     "execution_count": 6,
     "metadata": {},
     "output_type": "execute_result"
    }
   ],
   "source": [
    "acq_ni = LDAQ.national_instruments.NIAcquisition(task_name=ni_task, acquisition_name=\"NI\")\n",
    "acq_ni"
   ]
  },
  {
   "cell_type": "code",
   "execution_count": 18,
   "metadata": {},
   "outputs": [],
   "source": [
    "vis = LDAQ.Visualization(refresh_rate=100)\n",
    "vis.add_lines((0,0), source=\"NI\", channels=[\"Force\"], t_span=5.0)\n",
    "vis.add_lines((1,0), source=\"NI\", channels=[\"Strain\"], t_span=5.0)\n",
    "vis.add_lines((2, 0), source=\"NI\", channels=[(\"Strain\", \"Force\")]) #Force over strain"
   ]
  },
  {
   "cell_type": "code",
   "execution_count": 19,
   "metadata": {},
   "outputs": [
    {
     "data": {
      "text/plain": [
       "Acquisition sources (index, name):\n",
       "\t0 - NI\n",
       "\n",
       "Generation sources (index, name):\n",
       "\tNone\n",
       "\n",
       "Additional check events:\n",
       "\tNone\n",
       "\n",
       "Trigger settings:\n",
       "\t- duration [sec]      None\n",
       "\t- source              None\n",
       "\t- channel             None\n",
       "\t- level               None\n",
       "\t- presamples          None\n",
       "\t- type                None"
      ]
     },
     "execution_count": 19,
     "metadata": {},
     "output_type": "execute_result"
    }
   ],
   "source": [
    "ldaq = LDAQ.Core(acquisitions=[acq_ni], visualization=vis)\n",
    "ldaq"
   ]
  },
  {
   "cell_type": "code",
   "execution_count": 10,
   "metadata": {},
   "outputs": [],
   "source": [
    "mean_force = 0.0"
   ]
  },
  {
   "cell_type": "markdown",
   "metadata": {},
   "source": [
    "### Run the DAQ system with its GUI"
   ]
  },
  {
   "cell_type": "code",
   "execution_count": 20,
   "metadata": {},
   "outputs": [
    {
     "name": "stdout",
     "output_type": "stream",
     "text": [
      "closing app\n",
      "closing app\n",
      "closing app\n",
      "closing app\n"
     ]
    }
   ],
   "source": [
    "ldaq.run(10.)"
   ]
  },
  {
   "cell_type": "code",
   "execution_count": 40,
   "metadata": {},
   "outputs": [
    {
     "data": {
      "text/plain": [
       "{'time': array([0.0000e+00, 5.0000e-04, 1.0000e-03, ..., 9.9985e+00, 9.9990e+00,\n",
       "        9.9995e+00]),\n",
       " 'channel_names': ['Force', 'Strain'],\n",
       " 'data': array([[0.02871879, 0.01249539],\n",
       "        [0.03017606, 0.01249539],\n",
       "        [0.0290764 , 0.01249539],\n",
       "        ...,\n",
       "        [0.06789817, 0.01249539],\n",
       "        [0.06637533, 0.01249539],\n",
       "        [0.06594918, 0.01249539]]),\n",
       " 'sample_rate': 2000}"
      ]
     },
     "execution_count": 40,
     "metadata": {},
     "output_type": "execute_result"
    }
   ],
   "source": [
    "measurement = ldaq.get_measurement_dict()\n",
    "data = measurement[\"NI\"]\n",
    "data"
   ]
  },
  {
   "cell_type": "code",
   "execution_count": 41,
   "metadata": {},
   "outputs": [],
   "source": [
    "time = data[\"time\"]\n",
    "fs = data[\"sample_rate\"]\n",
    "raw_data = data[\"data\"]\n",
    "\n",
    "force = raw_data[:, data[\"channel_names\"].index(\"Force\")]\n",
    "strain = raw_data[:, data[\"channel_names\"].index(\"Strain\")]"
   ]
  },
  {
   "cell_type": "markdown",
   "metadata": {},
   "source": [
    "### Post-Processing of the extracted measurement data"
   ]
  },
  {
   "cell_type": "code",
   "execution_count": 42,
   "metadata": {},
   "outputs": [
    {
     "data": {
      "text/plain": [
       "[<matplotlib.lines.Line2D at 0x1fc964d70d0>]"
      ]
     },
     "execution_count": 42,
     "metadata": {},
     "output_type": "execute_result"
    },
    {
     "data": {
      "image/png": "[encoded data removed]",
      "text/plain": [
       "<Figure size 640x480 with 1 Axes>"
      ]
     },
     "metadata": {},
     "output_type": "display_data"
    }
   ],
   "source": [
    "plt.plot(time, force - mean_force)\n",
    "#mean_force = np.mean(force)\n",
    "#mean_force"
   ]
  },
  {
   "cell_type": "code",
   "execution_count": 43,
   "metadata": {},
   "outputs": [
    {
     "data": {
      "text/plain": [
       "[<matplotlib.lines.Line2D at 0x1fc960ae650>]"
      ]
     },
     "execution_count": 43,
     "metadata": {},
     "output_type": "execute_result"
    },
    {
     "data": {
      "image/png": "[encoded data removed]",
      "text/plain": [
       "<Figure size 640x480 with 1 Axes>"
      ]
     },
     "metadata": {},
     "output_type": "display_data"
    }
   ],
   "source": [
    "plt.plot(time, strain)"
   ]
  }
 ],
 "metadata": {
  "kernelspec": {
   "display_name": ".venv",
   "language": "python",
   "name": "python3"
  },
  "language_info": {
   "codemirror_mode": {
    "name": "ipython",
    "version": 3
   },
   "file_extension": ".py",
   "mimetype": "text/x-python",
   "name": "python",
   "nbconvert_exporter": "python",
   "pygments_lexer": "ipython3",
   "version": "3.11.3"
  },
  "orig_nbformat": 4
 },
 "nbformat": 4,
 "nbformat_minor": 2
}
